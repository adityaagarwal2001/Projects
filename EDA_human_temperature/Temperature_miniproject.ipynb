{
 "cells": [
  {
   "cell_type": "markdown",
   "metadata": {},
   "source": [
    "# What is the True Normal Human Body Temperature? \n",
    "\n",
    "#### Background\n",
    "\n",
    "The mean normal body temperature was held to be 37$^{\\circ}$C or 98.6$^{\\circ}$F for more than 120 years since it was first conceptualized and reported by Carl Wunderlich in a famous 1868 book. But, is this value statistically correct?"
   ]
  },
  {
   "cell_type": "markdown",
   "metadata": {},
   "source": [
    "## Solution summary\n",
    "\n",
    "Temperature data are almost normal. Histogram has some binning bias which can be neglected as CDF is closely packed with normal distribution curve. Also, mean value is 98.25 and median value is 98.3, which are very close as the two should be same for normal distribution. Skewness is -0.004 and Kurtosis is 0.7, which are on the lower side. Ideally they should be zero for normal distribution.\n",
    "\n",
    "Sample is large enough with 130 observations. It is independent as all data points are captured for specific individual and do not correlate to any other person.\n",
    "\n",
    "Conceptualized body temperature is 98.6 F. However, different tests suggest otherwise. Let's test this as a null hypothesis testing. \n",
    "\n",
    "#### Null hypothesis - sample data has same mean as population mean.\n",
    "\n",
    "Bootstrap test: pvalue is 0. One sample t test: t statistic is -5.45, pvalue is 2.41e-07. z test produced z value of -5.46 and pvalue of 4.58e-08. \n",
    "Since the population variance is unknown, it is best to use one sample t test. Also, z test produces similar result with very low p value. Both these test can be interchanged for large sample size. However, t test is best for smaller sample size.\n",
    "\n",
    "If we draw a sample of 10 from existing data, t test produces a pvalue of 0.038 and z test has a pvalue of 0.01. Clearly t test is better suited here and we can reject the null hypothesis with for 5% significance level. We would fail to do so if significance level were 1%. t test is a better option for sample size of 10.\n",
    "\n",
    "The margin of error for 95 confidence in given sample is 1.43. Confidence interval ranges from 96.81 F - 99.68 F. This implies the conceptualize mean body temperature of 98.6 F is not an abnormal value.\n",
    "\n",
    "#### Compare male and female data\n",
    "\n",
    "When male and female body temperatures are compared in the given sample, we hypothesize - male and female body temperatures are the same. \n",
    "With two sample t test, we conclude the mean for two are not similar with 5% significance, pvalue of 0.023. Hence we reject the null hypothesis. Mean female body temperature is greater than mean male temperature by 0.29 F. "
   ]
  },
  {
   "cell_type": "code",
   "execution_count": 1,
   "metadata": {},
   "outputs": [],
   "source": [
    "import pandas as pd\n",
    "import matplotlib.pyplot as plt\n",
    "import seaborn as sns\n",
    "import datetime as dt\n",
    "import numpy as np\n",
    "from scipy import stats\n",
    "%matplotlib inline\n",
    "sns.set()\n",
    "\n",
    "df = pd.read_csv('data/human_body_temperature.csv')"
   ]
  },
  {
   "cell_type": "code",
   "execution_count": 2,
   "metadata": {
    "scrolled": true
   },
   "outputs": [
    {
     "data": {
      "text/html": [
       "<div>\n",
       "<style scoped>\n",
       "    .dataframe tbody tr th:only-of-type {\n",
       "        vertical-align: middle;\n",
       "    }\n",
       "\n",
       "    .dataframe tbody tr th {\n",
       "        vertical-align: top;\n",
       "    }\n",
       "\n",
       "    .dataframe thead th {\n",
       "        text-align: right;\n",
       "    }\n",
       "</style>\n",
       "<table border=\"1\" class=\"dataframe\">\n",
       "  <thead>\n",
       "    <tr style=\"text-align: right;\">\n",
       "      <th></th>\n",
       "      <th>temperature</th>\n",
       "      <th>gender</th>\n",
       "      <th>heart_rate</th>\n",
       "    </tr>\n",
       "  </thead>\n",
       "  <tbody>\n",
       "    <tr>\n",
       "      <th>0</th>\n",
       "      <td>99.3</td>\n",
       "      <td>F</td>\n",
       "      <td>68.0</td>\n",
       "    </tr>\n",
       "    <tr>\n",
       "      <th>1</th>\n",
       "      <td>98.4</td>\n",
       "      <td>F</td>\n",
       "      <td>81.0</td>\n",
       "    </tr>\n",
       "    <tr>\n",
       "      <th>2</th>\n",
       "      <td>97.8</td>\n",
       "      <td>M</td>\n",
       "      <td>73.0</td>\n",
       "    </tr>\n",
       "    <tr>\n",
       "      <th>3</th>\n",
       "      <td>99.2</td>\n",
       "      <td>F</td>\n",
       "      <td>66.0</td>\n",
       "    </tr>\n",
       "    <tr>\n",
       "      <th>4</th>\n",
       "      <td>98.0</td>\n",
       "      <td>F</td>\n",
       "      <td>73.0</td>\n",
       "    </tr>\n",
       "  </tbody>\n",
       "</table>\n",
       "</div>"
      ],
      "text/plain": [
       "   temperature gender  heart_rate\n",
       "0         99.3      F        68.0\n",
       "1         98.4      F        81.0\n",
       "2         97.8      M        73.0\n",
       "3         99.2      F        66.0\n",
       "4         98.0      F        73.0"
      ]
     },
     "execution_count": 2,
     "metadata": {},
     "output_type": "execute_result"
    }
   ],
   "source": [
    "df.head()"
   ]
  },
  {
   "cell_type": "code",
   "execution_count": 3,
   "metadata": {},
   "outputs": [],
   "source": [
    "def ecdf(data):\n",
    "    x = np.sort(data)\n",
    "    y = np.arange(1, len(x) + 1) / len(x)\n",
    "    return x, y\n",
    "\n",
    "def bootstrap_replicate_1d(data, func):\n",
    "    bs_sample = np.random.choice(data, size=len(data))\n",
    "    return func(bs_sample)\n",
    "\n",
    "def draw_bs_reps(data, func, size=1):\n",
    "    bs_replicates = np.empty(size)\n",
    "    for i in range(size):\n",
    "        bs_replicates[i] = bootstrap_replicate_1d(data, func)\n",
    "    return bs_replicates\n",
    "\n",
    "def permutation_sample(data1, data2):\n",
    "    data = np.concatenate((data1, data2))\n",
    "    permuted_data = np.random.permutation(data)\n",
    "    perm_sample_1 = permuted_data[:len(data1)]\n",
    "    perm_sample_2 = permuted_data[len(data2):]\n",
    "    return perm_sample_1, perm_sample_2\n",
    "\n",
    "def diff_of_means(data1, data2):\n",
    "    return (np.mean(data1) - np.mean(data2))\n",
    "\n",
    "def draw_perm_reps(data1, data2, func, size=1):\n",
    "    perm_replicates = np.empty(size)\n",
    "    for i in range(size):\n",
    "        perm_sample_1, perm_sample_2 = permutation_sample(data1, data2)\n",
    "        perm_replicates[i] = func(perm_sample_1, perm_sample_2)\n",
    "    return perm_replicates\n",
    "\n",
    "def diff_from_pop_mean(data, pop_mean=98.6):\n",
    "    return np.mean(data) - pop_mean\n",
    "\n",
    "def t_statistic(data, mean, std):\n",
    "    return (np.mean(data) - mean) / (std/np.sqrt(len(data)))"
   ]
  },
  {
   "cell_type": "markdown",
   "metadata": {},
   "source": [
    "# 1. Test for normality\n"
   ]
  },
  {
   "cell_type": "code",
   "execution_count": 4,
   "metadata": {},
   "outputs": [],
   "source": [
    "# Calculate sample statistics\n",
    "# Sample is 130 data points in dataframe for temperature column\n",
    "\n",
    "sample = df.temperature\n",
    "\n",
    "sample_mean = df.temperature.mean().round(2)\n",
    "sample_std = df.temperature.std().round(2)\n",
    "sample_median = df.temperature.median().round(2)\n",
    "\n",
    "x_normal, y_normal = ecdf(np.random.normal(sample_mean, sample_std, size = 10000))\n"
   ]
  },
  {
   "cell_type": "code",
   "execution_count": 5,
   "metadata": {
    "scrolled": false
   },
   "outputs": [
    {
     "data": {
      "image/png": "[encoded data removed]",
      "text/plain": [
       "<Figure size 1440x720 with 2 Axes>"
      ]
     },
     "metadata": {},
     "output_type": "display_data"
    }
   ],
   "source": [
    "# Plot CDF and histogram along with optimal lines (in red) \n",
    "\n",
    "x, y = ecdf(df.temperature)\n",
    "fig, (ax1, ax2) = plt.subplots(1, 2, figsize=(20, 10))\n",
    "\n",
    "ax1.plot(x, y, marker='.', linestyle='none')\n",
    "ax1.plot(x_normal, y_normal, color='r')\n",
    "\n",
    "ax2.hist(x, bins=10, density=True)\n",
    "sns.distplot(x_normal, bins=None, color='r', ax=ax2, hist=False)\n",
    "\n",
    "#ax1.set_xticklabels('')\n",
    "ax1.tick_params(axis='both', which='major', labelsize=25)\n",
    "ax1.tick_params(axis='both', which='minor', labelsize=25)\n",
    "ax1.set_title('', fontdict={'fontsize': 30})\n",
    "ax1.set_ylim(ymin=0, ymax=1.1)\n",
    "ax1.set_xlabel('Temperature', fontdict={'fontsize': 30})\n",
    "ax1.set_ylabel('CDF', fontdict={'fontsize': 30})\n",
    "\n",
    "#ax1.set_xticklabels('')\n",
    "ax2.tick_params(axis='both', which='major', labelsize=25)\n",
    "ax2.tick_params(axis='both', which='minor', labelsize=25)\n",
    "ax2.set_title('', fontdict={'fontsize': 30})\n",
    "ax2.set_ylim(ymin=0, ymax=1.1)\n",
    "ax2.set_xlabel('Temperature', fontdict={'fontsize': 30})\n",
    "ax2.set_ylabel('Histogram', fontdict={'fontsize': 30})\n",
    "fig.legend(['Sample data', 'Normal distribution'], loc='upper right', fontsize=25, markerscale = 2)\n",
    "\n",
    "fig.tight_layout()"
   ]
  },
  {
   "cell_type": "code",
   "execution_count": 6,
   "metadata": {},
   "outputs": [
    {
     "name": "stdout",
     "output_type": "stream",
     "text": [
      "Sample mean temperature value is 98.25\n",
      "Sample median temperature value is 98.3\n",
      "Skewness of temperature distribution is -0.004367976879081625\n",
      "Kurtosis of temperature distribution is 0.7049597854114693\n"
     ]
    }
   ],
   "source": [
    "print('Sample mean temperature value is', sample_mean)\n",
    "print('Sample median temperature value is', sample_median)\n",
    "print('Skewness of temperature distribution is', stats.skew(df.temperature))\n",
    "print('Kurtosis of temperature distribution is', stats.kurtosis(df.temperature))"
   ]
  },
  {
   "cell_type": "markdown",
   "metadata": {},
   "source": [
    "# 2. Is the sample size large? Are the observations independent?\n"
   ]
  },
  {
   "cell_type": "markdown",
   "metadata": {},
   "source": [
    "Sample size is 130, which is significantly greater than 30 (ideal minimum sample size). Observations are independent as every row corresponds to an individual and feature values are not dependent other rows."
   ]
  },
  {
   "cell_type": "markdown",
   "metadata": {},
   "source": [
    "# 3. Is the true population mean really 98.6 degrees F?"
   ]
  },
  {
   "cell_type": "markdown",
   "metadata": {},
   "source": [
    "Null hypothesis: The sample mean body temperature is equal to the normal population mean of 98.6 F\n",
    "\n"
   ]
  },
  {
   "cell_type": "code",
   "execution_count": 7,
   "metadata": {
    "scrolled": true
   },
   "outputs": [
    {
     "data": {
      "text/plain": [
       "0.0"
      ]
     },
     "execution_count": 7,
     "metadata": {},
     "output_type": "execute_result"
    }
   ],
   "source": [
    "# Shift sample data towards population mean\n",
    "population_mean = 98.6\n",
    "sample_data = df.temperature\n",
    "shift_sample_data = sample_data - sample_mean + population_mean\n",
    "\n",
    "# Observed difference between original sample data and population mean\n",
    "diff_observed = diff_from_pop_mean(sample_data, population_mean)\n",
    "\n",
    "# Bootstrap shifted data\n",
    "bs_replicates = draw_bs_reps(shift_sample_data, diff_from_pop_mean, 10000)\n",
    "\n",
    "# Calculate probability\n",
    "p = np.sum(bs_replicates <= diff_observed) / len(bs_replicates)\n",
    "p"
   ]
  },
  {
   "cell_type": "markdown",
   "metadata": {},
   "source": [
    "One sample test because we have one set of data to be matched against population mean. t-test because population variance is unknown\n",
    "\n"
   ]
  },
  {
   "cell_type": "code",
   "execution_count": 8,
   "metadata": {},
   "outputs": [
    {
     "data": {
      "text/plain": [
       "Ttest_1sampResult(statistic=-5.4548232923645195, pvalue=2.4106320415561276e-07)"
      ]
     },
     "execution_count": 8,
     "metadata": {},
     "output_type": "execute_result"
    }
   ],
   "source": [
    "# Run one sample t test with sample data and population mean\n",
    "stats.ttest_1samp(sample_data, population_mean)"
   ]
  },
  {
   "cell_type": "code",
   "execution_count": 9,
   "metadata": {},
   "outputs": [
    {
     "data": {
      "text/plain": [
       "Ttest_1sampResult(statistic=-5.454823292364207, pvalue=2.410632041559576e-07)"
      ]
     },
     "execution_count": 9,
     "metadata": {},
     "output_type": "execute_result"
    }
   ],
   "source": [
    "# Above is similar to one sample t test of difference from population mean approaching zero\n",
    "diff_mean = sample_data - population_mean\n",
    "stats.ttest_1samp(diff_mean, 0)"
   ]
  },
  {
   "cell_type": "code",
   "execution_count": 10,
   "metadata": {},
   "outputs": [
    {
     "data": {
      "text/plain": [
       "-5.466594503899888"
      ]
     },
     "execution_count": 10,
     "metadata": {},
     "output_type": "execute_result"
    }
   ],
   "source": [
    "# Calculate z statistic\n",
    "z = (sample_mean - population_mean) / (sample_std / np.sqrt(len(sample)))\n",
    "z"
   ]
  },
  {
   "cell_type": "code",
   "execution_count": 11,
   "metadata": {},
   "outputs": [
    {
     "data": {
      "text/plain": [
       "4.587638864121873e-08"
      ]
     },
     "execution_count": 11,
     "metadata": {},
     "output_type": "execute_result"
    }
   ],
   "source": [
    "# Probability for z value will be twice as z score could fall on either tail\n",
    "p = 2 * stats.norm.cdf(z)\n",
    "p"
   ]
  },
  {
   "cell_type": "markdown",
   "metadata": {},
   "source": [
    "# 4. Draw a small sample of size 10 from the data and repeat both frequentist tests.\n"
   ]
  },
  {
   "cell_type": "code",
   "execution_count": 12,
   "metadata": {},
   "outputs": [],
   "source": [
    "# Generate seed and draw 10 random samples from original sample\n",
    "np.random.seed(145)\n",
    "sample_10 = np.random.choice(df.temperature, size=10)"
   ]
  },
  {
   "cell_type": "code",
   "execution_count": 13,
   "metadata": {},
   "outputs": [
    {
     "data": {
      "text/plain": [
       "Ttest_1sampResult(statistic=-2.424915040727563, pvalue=0.03830065026376261)"
      ]
     },
     "execution_count": 13,
     "metadata": {},
     "output_type": "execute_result"
    }
   ],
   "source": [
    "# Run one sample t test with sample_10 and population mean\n",
    "stats.ttest_1samp(sample_10, population_mean)"
   ]
  },
  {
   "cell_type": "code",
   "execution_count": 14,
   "metadata": {},
   "outputs": [
    {
     "data": {
      "text/plain": [
       "Ttest_1sampResult(statistic=-2.4249150407276217, pvalue=0.03830065026375892)"
      ]
     },
     "execution_count": 14,
     "metadata": {},
     "output_type": "execute_result"
    }
   ],
   "source": [
    "# Above is similar to one sample t test of difference from population mean approaching zero\n",
    "diff_mean = sample_10 - population_mean\n",
    "stats.ttest_1samp(diff_mean, 0)"
   ]
  },
  {
   "cell_type": "code",
   "execution_count": 15,
   "metadata": {},
   "outputs": [
    {
     "data": {
      "text/plain": [
       "-2.556084887033023"
      ]
     },
     "execution_count": 15,
     "metadata": {},
     "output_type": "execute_result"
    }
   ],
   "source": [
    "# Calculate z statistic\n",
    "z = (np.mean(sample_10) - population_mean) / (np.std(sample_10) / np.sqrt(len(sample_10)))\n",
    "z"
   ]
  },
  {
   "cell_type": "code",
   "execution_count": 16,
   "metadata": {},
   "outputs": [
    {
     "data": {
      "text/plain": [
       "0.01058572913988251"
      ]
     },
     "execution_count": 16,
     "metadata": {},
     "output_type": "execute_result"
    }
   ],
   "source": [
    "# Probability for z value will be twice as z score could fall on either tail\n",
    "p = 2 * stats.norm.cdf(z)\n",
    "p"
   ]
  },
  {
   "cell_type": "markdown",
   "metadata": {},
   "source": [
    "# 5. At what temperature should we consider someone's temperature to be \"abnormal\"?\n"
   ]
  },
  {
   "cell_type": "code",
   "execution_count": 17,
   "metadata": {},
   "outputs": [
    {
     "data": {
      "text/plain": [
       "0.12548715550414832"
      ]
     },
     "execution_count": 17,
     "metadata": {},
     "output_type": "execute_result"
    }
   ],
   "source": [
    "# Margin of error for N draws with 95% confidence\n",
    "\n",
    "z = stats.norm.ppf(.975)\n",
    "margin_error = z * sample_std/np.sqrt(len(sample_data))\n",
    "margin_error"
   ]
  },
  {
   "cell_type": "code",
   "execution_count": 18,
   "metadata": {},
   "outputs": [
    {
     "data": {
      "text/plain": [
       "1.4307737087142394"
      ]
     },
     "execution_count": 18,
     "metadata": {},
     "output_type": "execute_result"
    }
   ],
   "source": [
    "# Margin of error for 1 draw with 95% confidence\n",
    "\n",
    "z = stats.norm.ppf(.975)\n",
    "margin_error = z * sample_std\n",
    "margin_error"
   ]
  },
  {
   "cell_type": "code",
   "execution_count": 19,
   "metadata": {},
   "outputs": [
    {
     "data": {
      "text/plain": [
       "[96.81922629128576, 99.68077370871424]"
      ]
     },
     "execution_count": 19,
     "metadata": {},
     "output_type": "execute_result"
    }
   ],
   "source": [
    "# 95% confidence interval for 1 draw\n",
    "\n",
    "[sample_mean + stats.norm.ppf(.025) * sample_std, sample_mean + stats.norm.ppf(.975) * sample_std]"
   ]
  },
  {
   "cell_type": "code",
   "execution_count": 20,
   "metadata": {
    "scrolled": true
   },
   "outputs": [
    {
     "data": {
      "text/plain": [
       "(96.81922629128576, 99.68077370871424)"
      ]
     },
     "execution_count": 20,
     "metadata": {},
     "output_type": "execute_result"
    }
   ],
   "source": [
    "# Above can also be calculated using this formula\n",
    "\n",
    "stats.norm.interval(0.95, loc=sample_mean, scale=sample_std)"
   ]
  },
  {
   "cell_type": "markdown",
   "metadata": {},
   "source": [
    "# 6.Is there a significant difference between males and females in normal temperature?\n"
   ]
  },
  {
   "cell_type": "code",
   "execution_count": 21,
   "metadata": {},
   "outputs": [],
   "source": [
    "# Generate male and female dataset\n",
    "male_data = df[df.gender == 'M'].temperature\n",
    "female_data = df[df.gender == 'F'].temperature"
   ]
  },
  {
   "cell_type": "code",
   "execution_count": 22,
   "metadata": {},
   "outputs": [
    {
     "data": {
      "image/png": "[encoded data removed]",
      "text/plain": [
       "<Figure size 1440x720 with 1 Axes>"
      ]
     },
     "metadata": {},
     "output_type": "display_data"
    }
   ],
   "source": [
    "# Plot male and female cdf for visual analysis\n",
    "\n",
    "xm, ym = ecdf(male_data)\n",
    "xf, yf = ecdf(female_data)\n",
    "\n",
    "fig, ax = plt.subplots(figsize=(20, 10))\n",
    "\n",
    "ax.plot(xm, ym, marker='.', linestyle='none', color = 'b')\n",
    "ax.plot(xf, yf, marker='.', linestyle='none', color = 'r')\n",
    "\n",
    "#ax1.set_xticklabels('')\n",
    "ax.tick_params(axis='both', which='major', labelsize=25)\n",
    "ax.tick_params(axis='both', which='minor', labelsize=25)\n",
    "ax.set_title('', fontdict={'fontsize': 30})\n",
    "ax.set_ylim(ymin=-0.1, ymax=1.1)\n",
    "ax.set_xlabel('Temperature', fontdict={'fontsize': 30})\n",
    "ax.set_ylabel('CDF', fontdict={'fontsize': 30})\n",
    "ax.legend(['Male', 'Female'], loc='lower right', fontsize=25, markerscale = 2)\n",
    "\n",
    "fig.tight_layout()"
   ]
  },
  {
   "cell_type": "code",
   "execution_count": 23,
   "metadata": {},
   "outputs": [
    {
     "data": {
      "text/plain": [
       "0.0122"
      ]
     },
     "execution_count": 23,
     "metadata": {},
     "output_type": "execute_result"
    }
   ],
   "source": [
    "# Test statistic is difference in means of male and female temperatures\n",
    "observed_diff = diff_of_means(male_data, female_data)\n",
    "\n",
    "#Draw permutation replicates of difference in means\n",
    "perm_replicates = draw_perm_reps(male_data, female_data, diff_of_means, 10000)\n",
    "\n",
    "# Calculate probability\n",
    "p = np.sum(perm_replicates <= observed_diff) / len(perm_replicates)\n",
    "p"
   ]
  },
  {
   "cell_type": "code",
   "execution_count": 24,
   "metadata": {},
   "outputs": [
    {
     "data": {
      "text/plain": [
       "Ttest_indResult(statistic=-2.2854345381656103, pvalue=0.02393188312239561)"
      ]
     },
     "execution_count": 24,
     "metadata": {},
     "output_type": "execute_result"
    }
   ],
   "source": [
    "# Another method to compare two datasets is 2 sample t test\n",
    "stats.ttest_ind(male_data, female_data)"
   ]
  },
  {
   "cell_type": "code",
   "execution_count": 25,
   "metadata": {},
   "outputs": [
    {
     "data": {
      "text/plain": [
       "count    65.000000\n",
       "mean     98.104615\n",
       "std       0.698756\n",
       "min      96.300000\n",
       "25%      97.600000\n",
       "50%      98.100000\n",
       "75%      98.600000\n",
       "max      99.500000\n",
       "Name: temperature, dtype: float64"
      ]
     },
     "execution_count": 25,
     "metadata": {},
     "output_type": "execute_result"
    }
   ],
   "source": [
    "male_data.describe()"
   ]
  },
  {
   "cell_type": "code",
   "execution_count": 26,
   "metadata": {},
   "outputs": [
    {
     "data": {
      "text/plain": [
       "count     65.000000\n",
       "mean      98.393846\n",
       "std        0.743488\n",
       "min       96.400000\n",
       "25%       98.000000\n",
       "50%       98.400000\n",
       "75%       98.800000\n",
       "max      100.800000\n",
       "Name: temperature, dtype: float64"
      ]
     },
     "execution_count": 26,
     "metadata": {},
     "output_type": "execute_result"
    }
   ],
   "source": [
    "female_data.describe()"
   ]
  }
 ],
 "metadata": {
  "kernelspec": {
   "display_name": "Python 3",
   "language": "python",
   "name": "python3"
  },
  "language_info": {
   "codemirror_mode": {
    "name": "ipython",
    "version": 3
   },
   "file_extension": ".py",
   "mimetype": "text/x-python",
   "name": "python",
   "nbconvert_exporter": "python",
   "pygments_lexer": "ipython3",
   "version": "3.6.5"
  }
 },
 "nbformat": 4,
 "nbformat_minor": 1
}
